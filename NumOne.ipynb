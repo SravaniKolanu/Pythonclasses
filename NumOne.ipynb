{
 "cells": [
  {
   "cell_type": "markdown",
   "metadata": {},
   "source": [
    "## Numpy"
   ]
  },
  {
   "cell_type": "markdown",
   "metadata": {},
   "source": [
    "###### 1. Generate a NumPy array of monthly expenses for a year and compute the total annual expense. Tip: You can generate values using the random package. "
   ]
  },
  {
   "cell_type": "code",
   "execution_count": 73,
   "metadata": {},
   "outputs": [
    {
     "name": "stdout",
     "output_type": "stream",
     "text": [
      "Monthly Expenses: [4099 3035 3004 4506 4405 4030 3896 3964 4887 3835 3754 3850]\n",
      "Total Annual Expenses: $ 47265\n"
     ]
    }
   ],
   "source": [
    "import numpy as np\n",
    "\n",
    "monthly_expenses = np.random.randint(3000, 5000, size=12)\n",
    "print(\"Monthly Expenses:\", monthly_expenses)\n",
    "total_annual_expense = np.sum(monthly_expenses)\n",
    "print(\"Total Annual Expenses: $\",total_annual_expense)\n"
   ]
  },
  {
   "cell_type": "markdown",
   "metadata": {},
   "source": [
    "###### 2. Write a program - given an array of integers, compute their factorials.(Mathematics)"
   ]
  },
  {
   "cell_type": "code",
   "execution_count": 74,
   "metadata": {},
   "outputs": [
    {
     "name": "stdout",
     "output_type": "stream",
     "text": [
      "Numbers: [0 1 3 5 6 7 8 9]\n",
      "Factorials: [1, 1, 6, 120, 720, 5040, 40320, 362880]\n"
     ]
    }
   ],
   "source": [
    "numbers = np.array([0,1,3,5,6,7,8,9])\n",
    "factorials = []\n",
    "for n in numbers:\n",
    "    result = 1\n",
    "    for i in range(1, n + 1):\n",
    "        result *= i\n",
    "    factorials.append(result)\n",
    "print(\"Numbers:\", numbers)\n",
    "print(\"Factorials:\", factorials)\n"
   ]
  },
  {
   "cell_type": "markdown",
   "metadata": {},
   "source": [
    "###### 3. Implement a program to calculate the return on investment (ROI) given an initial and final array of stock prices. (Finance)"
   ]
  },
  {
   "cell_type": "code",
   "execution_count": 75,
   "metadata": {},
   "outputs": [
    {
     "name": "stdout",
     "output_type": "stream",
     "text": [
      "ROI (%): [ 13.33333333  30.         -28.           9.09090909  20.        ]\n"
     ]
    }
   ],
   "source": [
    "initial_prices = np.array([1500, 2000, 2500, 3300, 5000])\n",
    "final_prices = np.array([1700, 2600, 1800, 3600, 6000])\n",
    "Return_on_investment = ((final_prices - initial_prices) / initial_prices) * 100\n",
    "print(\"ROI (%):\", Return_on_investment)\n"
   ]
  },
  {
   "cell_type": "markdown",
   "metadata": {},
   "source": [
    "###### 4. Given an array of past monthly sales, calculate the average sales to predict next month’s demand. (Supply Chain)"
   ]
  },
  {
   "cell_type": "code",
   "execution_count": 76,
   "metadata": {},
   "outputs": [
    {
     "name": "stdout",
     "output_type": "stream",
     "text": [
      "Predicted Demand for Next Month: 4000.0\n"
     ]
    }
   ],
   "source": [
    "Monthly_sales = np.array([2000,3000,4000,5000,6000])\n",
    "Average_sales = np.mean(Monthly_sales)\n",
    "Predict_demand = Average_sales\n",
    "print(\"Predicted Demand for Next Month:\", Predict_demand)"
   ]
  },
  {
   "cell_type": "markdown",
   "metadata": {},
   "source": [
    "###### 5. Write a program to determine if an object is undergoing uniform or non-uniform motion given an array of positions over time. (Mechanics)"
   ]
  },
  {
   "cell_type": "code",
   "execution_count": 79,
   "metadata": {},
   "outputs": [
    {
     "name": "stdout",
     "output_type": "stream",
     "text": [
      "Positions: [ 1  8 12 16 21 40 50]\n",
      "Displacements between time intervals: [ 7  4  4  5 19 10]\n"
     ]
    }
   ],
   "source": [
    "positions = np.array([1,8,12,16,21,40,50])\n",
    "displacements = np.diff(positions)\n",
    "print(\"Positions:\", positions)\n",
    "print(\"Displacements between time intervals:\", displacements)\n"
   ]
  },
  {
   "cell_type": "markdown",
   "metadata": {},
   "source": [
    "###### 6. Write a short Python program that takes two lists a and b of length n storing int values, and returns the dot product of a and b\n",
    "###### That is returns an list c of length n such that c[i] = a[i].b[i] for  i = 0, .. n-1\n",
    "###### Eg: Input a = [2, 3, 4, 6, 7] b = [3, 4, 2, 3, 1]\n",
    "###### Output c = [6, 12, 8, 18, 7]\n"
   ]
  },
  {
   "cell_type": "code",
   "execution_count": 81,
   "metadata": {},
   "outputs": [
    {
     "name": "stdout",
     "output_type": "stream",
     "text": [
      "C: [ 680  805 1806 1674 3015]\n"
     ]
    }
   ],
   "source": [
    "a = np.array([20,35,43,54,67])\n",
    "b = np.array([34,23,42,31,45])\n",
    "c = a*b\n",
    "print(\"C:\",c)\n"
   ]
  },
  {
   "cell_type": "markdown",
   "metadata": {},
   "source": [
    "###### 7 Given a stock price series in an array, calculate a 3-day moving average in another array using NumPy. (Finance)"
   ]
  },
  {
   "cell_type": "code",
   "execution_count": null,
   "metadata": {},
   "outputs": [],
   "source": []
  },
  {
   "cell_type": "markdown",
   "metadata": {},
   "source": [
    "###### 8 Given an array of daily returns, calculate the standard deviation (volatility) of returns. (Finance)"
   ]
  },
  {
   "cell_type": "code",
   "execution_count": null,
   "metadata": {},
   "outputs": [],
   "source": []
  }
 ],
 "metadata": {
  "kernelspec": {
   "display_name": "Python 3",
   "language": "python",
   "name": "python3"
  },
  "language_info": {
   "codemirror_mode": {
    "name": "ipython",
    "version": 3
   },
   "file_extension": ".py",
   "mimetype": "text/x-python",
   "name": "python",
   "nbconvert_exporter": "python",
   "pygments_lexer": "ipython3",
   "version": "3.13.2"
  }
 },
 "nbformat": 4,
 "nbformat_minor": 2
}
